{
 "cells": [
  {
   "cell_type": "code",
   "execution_count": 2,
   "metadata": {
    "tags": []
   },
   "outputs": [],
   "source": [
    "import nibabel as nib\n",
    "import pandas as pd\n",
    "import os\n",
    "import numpy as np\n",
    "import random\n",
    "import matplotlib.pyplot as plt\n",
    "\n",
    "from sklearn.model_selection import train_test_split\n",
    "from sklearn.metrics import f1_score\n",
    "from scipy import ndimage\n",
    "\n",
    "import tensorflow as tf\n",
    "from tensorflow import keras\n",
    "from keras.optimizers import Adam\n",
    "from keras.layers import Conv3D, MaxPooling3D, GlobalAveragePooling3D, BatchNormalization, Dense, Dropout, Activation\n",
    "from keras.metrics import Accuracy, MeanSquaredError, AUC, BinaryAccuracy\n",
    "\n",
    "\n",
    "def load_nifti_image(file_path):\n",
    "    # Read file\n",
    "    img = nib.load(file_path)\n",
    "    # Get raw data\n",
    "    img = img.get_fdata()\n",
    "    return img\n",
    "\n",
    "def normalize(img):\n",
    "    min = -1000\n",
    "    max = 400\n",
    "    img[img < min] = min\n",
    "    img[img > max] = max\n",
    "    img = (img - min) / (max - min)\n",
    "    img = img.astype(\"float32\")\n",
    "    return img\n",
    "\n",
    "def reshape(img):\n",
    "    # Set the desired depth\n",
    "    img_desired_depth = 64\n",
    "    img_desired_width = 128\n",
    "    img_desired_height = 128\n",
    "    # Get current depth\n",
    "    current_depth = img.shape[-1]\n",
    "    current_width = img.shape[0]\n",
    "    current_height = img.shape[1]\n",
    "    # Compute depth factor\n",
    "    depth = current_depth / img_desired_depth\n",
    "    width = current_width / img_desired_width\n",
    "    height = current_height / img_desired_height\n",
    "    depth_factor = 1 / depth\n",
    "    width_factor = 1 / width\n",
    "    height_factor = 1 / height\n",
    "    # Rotate\n",
    "    img = ndimage.rotate(img, 90, reshape=False)\n",
    "    # Resize across z-axis\n",
    "    img = ndimage.zoom(img, (width_factor, height_factor, depth_factor), order=1)\n",
    "    return img\n",
    "\n",
    "def process_image(path):\n",
    "    img = load_nifti_image(path)\n",
    "    img = normalize(img)\n",
    "    img = reshape(img)\n",
    "    return img"
   ]
  },
  {
   "cell_type": "code",
   "execution_count": 3,
   "metadata": {
    "tags": []
   },
   "outputs": [
    {
     "ename": "FileNotFoundError",
     "evalue": "[Errno 2] No such file or directory: '/home/kpairoj/cpsc8650/project/BET_BSE_DATA/labels.csv'",
     "output_type": "error",
     "traceback": [
      "\u001b[0;31m---------------------------------------------------------------------------\u001b[0m",
      "\u001b[0;31mFileNotFoundError\u001b[0m                         Traceback (most recent call last)",
      "Cell \u001b[0;32mIn[3], line 1\u001b[0m\n\u001b[0;32m----> 1\u001b[0m labels_df \u001b[38;5;241m=\u001b[39m \u001b[43mpd\u001b[49m\u001b[38;5;241;43m.\u001b[39;49m\u001b[43mread_csv\u001b[49m\u001b[43m(\u001b[49m\u001b[43mos\u001b[49m\u001b[38;5;241;43m.\u001b[39;49m\u001b[43mpath\u001b[49m\u001b[38;5;241;43m.\u001b[39;49m\u001b[43mjoin\u001b[49m\u001b[43m(\u001b[49m\u001b[43mos\u001b[49m\u001b[38;5;241;43m.\u001b[39;49m\u001b[43mgetcwd\u001b[49m\u001b[43m(\u001b[49m\u001b[43m)\u001b[49m\u001b[43m,\u001b[49m\u001b[43m \u001b[49m\u001b[38;5;124;43m\"\u001b[39;49m\u001b[38;5;124;43mBET_BSE_DATA\u001b[39;49m\u001b[38;5;124;43m\"\u001b[39;49m\u001b[43m,\u001b[49m\u001b[43m \u001b[49m\u001b[38;5;124;43m\"\u001b[39;49m\u001b[38;5;124;43mlabels.csv\u001b[39;49m\u001b[38;5;124;43m\"\u001b[39;49m\u001b[43m)\u001b[49m\u001b[43m)\u001b[49m\n\u001b[1;32m      2\u001b[0m labels_df\u001b[38;5;241m.\u001b[39mhead()\n",
      "File \u001b[0;32m~/.conda/envs/datamining/lib/python3.8/site-packages/pandas/io/parsers/readers.py:912\u001b[0m, in \u001b[0;36mread_csv\u001b[0;34m(filepath_or_buffer, sep, delimiter, header, names, index_col, usecols, dtype, engine, converters, true_values, false_values, skipinitialspace, skiprows, skipfooter, nrows, na_values, keep_default_na, na_filter, verbose, skip_blank_lines, parse_dates, infer_datetime_format, keep_date_col, date_parser, date_format, dayfirst, cache_dates, iterator, chunksize, compression, thousands, decimal, lineterminator, quotechar, quoting, doublequote, escapechar, comment, encoding, encoding_errors, dialect, on_bad_lines, delim_whitespace, low_memory, memory_map, float_precision, storage_options, dtype_backend)\u001b[0m\n\u001b[1;32m    899\u001b[0m kwds_defaults \u001b[38;5;241m=\u001b[39m _refine_defaults_read(\n\u001b[1;32m    900\u001b[0m     dialect,\n\u001b[1;32m    901\u001b[0m     delimiter,\n\u001b[0;32m   (...)\u001b[0m\n\u001b[1;32m    908\u001b[0m     dtype_backend\u001b[38;5;241m=\u001b[39mdtype_backend,\n\u001b[1;32m    909\u001b[0m )\n\u001b[1;32m    910\u001b[0m kwds\u001b[38;5;241m.\u001b[39mupdate(kwds_defaults)\n\u001b[0;32m--> 912\u001b[0m \u001b[38;5;28;01mreturn\u001b[39;00m \u001b[43m_read\u001b[49m\u001b[43m(\u001b[49m\u001b[43mfilepath_or_buffer\u001b[49m\u001b[43m,\u001b[49m\u001b[43m \u001b[49m\u001b[43mkwds\u001b[49m\u001b[43m)\u001b[49m\n",
      "File \u001b[0;32m~/.conda/envs/datamining/lib/python3.8/site-packages/pandas/io/parsers/readers.py:577\u001b[0m, in \u001b[0;36m_read\u001b[0;34m(filepath_or_buffer, kwds)\u001b[0m\n\u001b[1;32m    574\u001b[0m _validate_names(kwds\u001b[38;5;241m.\u001b[39mget(\u001b[38;5;124m\"\u001b[39m\u001b[38;5;124mnames\u001b[39m\u001b[38;5;124m\"\u001b[39m, \u001b[38;5;28;01mNone\u001b[39;00m))\n\u001b[1;32m    576\u001b[0m \u001b[38;5;66;03m# Create the parser.\u001b[39;00m\n\u001b[0;32m--> 577\u001b[0m parser \u001b[38;5;241m=\u001b[39m \u001b[43mTextFileReader\u001b[49m\u001b[43m(\u001b[49m\u001b[43mfilepath_or_buffer\u001b[49m\u001b[43m,\u001b[49m\u001b[43m \u001b[49m\u001b[38;5;241;43m*\u001b[39;49m\u001b[38;5;241;43m*\u001b[39;49m\u001b[43mkwds\u001b[49m\u001b[43m)\u001b[49m\n\u001b[1;32m    579\u001b[0m \u001b[38;5;28;01mif\u001b[39;00m chunksize \u001b[38;5;129;01mor\u001b[39;00m iterator:\n\u001b[1;32m    580\u001b[0m     \u001b[38;5;28;01mreturn\u001b[39;00m parser\n",
      "File \u001b[0;32m~/.conda/envs/datamining/lib/python3.8/site-packages/pandas/io/parsers/readers.py:1407\u001b[0m, in \u001b[0;36mTextFileReader.__init__\u001b[0;34m(self, f, engine, **kwds)\u001b[0m\n\u001b[1;32m   1404\u001b[0m     \u001b[38;5;28mself\u001b[39m\u001b[38;5;241m.\u001b[39moptions[\u001b[38;5;124m\"\u001b[39m\u001b[38;5;124mhas_index_names\u001b[39m\u001b[38;5;124m\"\u001b[39m] \u001b[38;5;241m=\u001b[39m kwds[\u001b[38;5;124m\"\u001b[39m\u001b[38;5;124mhas_index_names\u001b[39m\u001b[38;5;124m\"\u001b[39m]\n\u001b[1;32m   1406\u001b[0m \u001b[38;5;28mself\u001b[39m\u001b[38;5;241m.\u001b[39mhandles: IOHandles \u001b[38;5;241m|\u001b[39m \u001b[38;5;28;01mNone\u001b[39;00m \u001b[38;5;241m=\u001b[39m \u001b[38;5;28;01mNone\u001b[39;00m\n\u001b[0;32m-> 1407\u001b[0m \u001b[38;5;28mself\u001b[39m\u001b[38;5;241m.\u001b[39m_engine \u001b[38;5;241m=\u001b[39m \u001b[38;5;28;43mself\u001b[39;49m\u001b[38;5;241;43m.\u001b[39;49m\u001b[43m_make_engine\u001b[49m\u001b[43m(\u001b[49m\u001b[43mf\u001b[49m\u001b[43m,\u001b[49m\u001b[43m \u001b[49m\u001b[38;5;28;43mself\u001b[39;49m\u001b[38;5;241;43m.\u001b[39;49m\u001b[43mengine\u001b[49m\u001b[43m)\u001b[49m\n",
      "File \u001b[0;32m~/.conda/envs/datamining/lib/python3.8/site-packages/pandas/io/parsers/readers.py:1661\u001b[0m, in \u001b[0;36mTextFileReader._make_engine\u001b[0;34m(self, f, engine)\u001b[0m\n\u001b[1;32m   1659\u001b[0m     \u001b[38;5;28;01mif\u001b[39;00m \u001b[38;5;124m\"\u001b[39m\u001b[38;5;124mb\u001b[39m\u001b[38;5;124m\"\u001b[39m \u001b[38;5;129;01mnot\u001b[39;00m \u001b[38;5;129;01min\u001b[39;00m mode:\n\u001b[1;32m   1660\u001b[0m         mode \u001b[38;5;241m+\u001b[39m\u001b[38;5;241m=\u001b[39m \u001b[38;5;124m\"\u001b[39m\u001b[38;5;124mb\u001b[39m\u001b[38;5;124m\"\u001b[39m\n\u001b[0;32m-> 1661\u001b[0m \u001b[38;5;28mself\u001b[39m\u001b[38;5;241m.\u001b[39mhandles \u001b[38;5;241m=\u001b[39m \u001b[43mget_handle\u001b[49m\u001b[43m(\u001b[49m\n\u001b[1;32m   1662\u001b[0m \u001b[43m    \u001b[49m\u001b[43mf\u001b[49m\u001b[43m,\u001b[49m\n\u001b[1;32m   1663\u001b[0m \u001b[43m    \u001b[49m\u001b[43mmode\u001b[49m\u001b[43m,\u001b[49m\n\u001b[1;32m   1664\u001b[0m \u001b[43m    \u001b[49m\u001b[43mencoding\u001b[49m\u001b[38;5;241;43m=\u001b[39;49m\u001b[38;5;28;43mself\u001b[39;49m\u001b[38;5;241;43m.\u001b[39;49m\u001b[43moptions\u001b[49m\u001b[38;5;241;43m.\u001b[39;49m\u001b[43mget\u001b[49m\u001b[43m(\u001b[49m\u001b[38;5;124;43m\"\u001b[39;49m\u001b[38;5;124;43mencoding\u001b[39;49m\u001b[38;5;124;43m\"\u001b[39;49m\u001b[43m,\u001b[49m\u001b[43m \u001b[49m\u001b[38;5;28;43;01mNone\u001b[39;49;00m\u001b[43m)\u001b[49m\u001b[43m,\u001b[49m\n\u001b[1;32m   1665\u001b[0m \u001b[43m    \u001b[49m\u001b[43mcompression\u001b[49m\u001b[38;5;241;43m=\u001b[39;49m\u001b[38;5;28;43mself\u001b[39;49m\u001b[38;5;241;43m.\u001b[39;49m\u001b[43moptions\u001b[49m\u001b[38;5;241;43m.\u001b[39;49m\u001b[43mget\u001b[49m\u001b[43m(\u001b[49m\u001b[38;5;124;43m\"\u001b[39;49m\u001b[38;5;124;43mcompression\u001b[39;49m\u001b[38;5;124;43m\"\u001b[39;49m\u001b[43m,\u001b[49m\u001b[43m \u001b[49m\u001b[38;5;28;43;01mNone\u001b[39;49;00m\u001b[43m)\u001b[49m\u001b[43m,\u001b[49m\n\u001b[1;32m   1666\u001b[0m \u001b[43m    \u001b[49m\u001b[43mmemory_map\u001b[49m\u001b[38;5;241;43m=\u001b[39;49m\u001b[38;5;28;43mself\u001b[39;49m\u001b[38;5;241;43m.\u001b[39;49m\u001b[43moptions\u001b[49m\u001b[38;5;241;43m.\u001b[39;49m\u001b[43mget\u001b[49m\u001b[43m(\u001b[49m\u001b[38;5;124;43m\"\u001b[39;49m\u001b[38;5;124;43mmemory_map\u001b[39;49m\u001b[38;5;124;43m\"\u001b[39;49m\u001b[43m,\u001b[49m\u001b[43m \u001b[49m\u001b[38;5;28;43;01mFalse\u001b[39;49;00m\u001b[43m)\u001b[49m\u001b[43m,\u001b[49m\n\u001b[1;32m   1667\u001b[0m \u001b[43m    \u001b[49m\u001b[43mis_text\u001b[49m\u001b[38;5;241;43m=\u001b[39;49m\u001b[43mis_text\u001b[49m\u001b[43m,\u001b[49m\n\u001b[1;32m   1668\u001b[0m \u001b[43m    \u001b[49m\u001b[43merrors\u001b[49m\u001b[38;5;241;43m=\u001b[39;49m\u001b[38;5;28;43mself\u001b[39;49m\u001b[38;5;241;43m.\u001b[39;49m\u001b[43moptions\u001b[49m\u001b[38;5;241;43m.\u001b[39;49m\u001b[43mget\u001b[49m\u001b[43m(\u001b[49m\u001b[38;5;124;43m\"\u001b[39;49m\u001b[38;5;124;43mencoding_errors\u001b[39;49m\u001b[38;5;124;43m\"\u001b[39;49m\u001b[43m,\u001b[49m\u001b[43m \u001b[49m\u001b[38;5;124;43m\"\u001b[39;49m\u001b[38;5;124;43mstrict\u001b[39;49m\u001b[38;5;124;43m\"\u001b[39;49m\u001b[43m)\u001b[49m\u001b[43m,\u001b[49m\n\u001b[1;32m   1669\u001b[0m \u001b[43m    \u001b[49m\u001b[43mstorage_options\u001b[49m\u001b[38;5;241;43m=\u001b[39;49m\u001b[38;5;28;43mself\u001b[39;49m\u001b[38;5;241;43m.\u001b[39;49m\u001b[43moptions\u001b[49m\u001b[38;5;241;43m.\u001b[39;49m\u001b[43mget\u001b[49m\u001b[43m(\u001b[49m\u001b[38;5;124;43m\"\u001b[39;49m\u001b[38;5;124;43mstorage_options\u001b[39;49m\u001b[38;5;124;43m\"\u001b[39;49m\u001b[43m,\u001b[49m\u001b[43m \u001b[49m\u001b[38;5;28;43;01mNone\u001b[39;49;00m\u001b[43m)\u001b[49m\u001b[43m,\u001b[49m\n\u001b[1;32m   1670\u001b[0m \u001b[43m\u001b[49m\u001b[43m)\u001b[49m\n\u001b[1;32m   1671\u001b[0m \u001b[38;5;28;01massert\u001b[39;00m \u001b[38;5;28mself\u001b[39m\u001b[38;5;241m.\u001b[39mhandles \u001b[38;5;129;01mis\u001b[39;00m \u001b[38;5;129;01mnot\u001b[39;00m \u001b[38;5;28;01mNone\u001b[39;00m\n\u001b[1;32m   1672\u001b[0m f \u001b[38;5;241m=\u001b[39m \u001b[38;5;28mself\u001b[39m\u001b[38;5;241m.\u001b[39mhandles\u001b[38;5;241m.\u001b[39mhandle\n",
      "File \u001b[0;32m~/.conda/envs/datamining/lib/python3.8/site-packages/pandas/io/common.py:859\u001b[0m, in \u001b[0;36mget_handle\u001b[0;34m(path_or_buf, mode, encoding, compression, memory_map, is_text, errors, storage_options)\u001b[0m\n\u001b[1;32m    854\u001b[0m \u001b[38;5;28;01melif\u001b[39;00m \u001b[38;5;28misinstance\u001b[39m(handle, \u001b[38;5;28mstr\u001b[39m):\n\u001b[1;32m    855\u001b[0m     \u001b[38;5;66;03m# Check whether the filename is to be opened in binary mode.\u001b[39;00m\n\u001b[1;32m    856\u001b[0m     \u001b[38;5;66;03m# Binary mode does not support 'encoding' and 'newline'.\u001b[39;00m\n\u001b[1;32m    857\u001b[0m     \u001b[38;5;28;01mif\u001b[39;00m ioargs\u001b[38;5;241m.\u001b[39mencoding \u001b[38;5;129;01mand\u001b[39;00m \u001b[38;5;124m\"\u001b[39m\u001b[38;5;124mb\u001b[39m\u001b[38;5;124m\"\u001b[39m \u001b[38;5;129;01mnot\u001b[39;00m \u001b[38;5;129;01min\u001b[39;00m ioargs\u001b[38;5;241m.\u001b[39mmode:\n\u001b[1;32m    858\u001b[0m         \u001b[38;5;66;03m# Encoding\u001b[39;00m\n\u001b[0;32m--> 859\u001b[0m         handle \u001b[38;5;241m=\u001b[39m \u001b[38;5;28;43mopen\u001b[39;49m\u001b[43m(\u001b[49m\n\u001b[1;32m    860\u001b[0m \u001b[43m            \u001b[49m\u001b[43mhandle\u001b[49m\u001b[43m,\u001b[49m\n\u001b[1;32m    861\u001b[0m \u001b[43m            \u001b[49m\u001b[43mioargs\u001b[49m\u001b[38;5;241;43m.\u001b[39;49m\u001b[43mmode\u001b[49m\u001b[43m,\u001b[49m\n\u001b[1;32m    862\u001b[0m \u001b[43m            \u001b[49m\u001b[43mencoding\u001b[49m\u001b[38;5;241;43m=\u001b[39;49m\u001b[43mioargs\u001b[49m\u001b[38;5;241;43m.\u001b[39;49m\u001b[43mencoding\u001b[49m\u001b[43m,\u001b[49m\n\u001b[1;32m    863\u001b[0m \u001b[43m            \u001b[49m\u001b[43merrors\u001b[49m\u001b[38;5;241;43m=\u001b[39;49m\u001b[43merrors\u001b[49m\u001b[43m,\u001b[49m\n\u001b[1;32m    864\u001b[0m \u001b[43m            \u001b[49m\u001b[43mnewline\u001b[49m\u001b[38;5;241;43m=\u001b[39;49m\u001b[38;5;124;43m\"\u001b[39;49m\u001b[38;5;124;43m\"\u001b[39;49m\u001b[43m,\u001b[49m\n\u001b[1;32m    865\u001b[0m \u001b[43m        \u001b[49m\u001b[43m)\u001b[49m\n\u001b[1;32m    866\u001b[0m     \u001b[38;5;28;01melse\u001b[39;00m:\n\u001b[1;32m    867\u001b[0m         \u001b[38;5;66;03m# Binary mode\u001b[39;00m\n\u001b[1;32m    868\u001b[0m         handle \u001b[38;5;241m=\u001b[39m \u001b[38;5;28mopen\u001b[39m(handle, ioargs\u001b[38;5;241m.\u001b[39mmode)\n",
      "\u001b[0;31mFileNotFoundError\u001b[0m: [Errno 2] No such file or directory: '/home/kpairoj/cpsc8650/project/BET_BSE_DATA/labels.csv'"
     ]
    }
   ],
   "source": [
    "labels_df = pd.read_csv(os.path.join(os.getcwd(), \"BSE_BET_DATA\", \"labels.csv\"))\n",
    "labels_df.head()"
   ]
  },
  {
   "cell_type": "code",
   "execution_count": 42,
   "metadata": {},
   "outputs": [
    {
     "data": {
      "text/plain": [
       "['IXI088-Guys-0758-T1_bse_less_s46_r1.nii.gz',\n",
       " 'IXI482-HH-2178-T1_bet_86.nii.gz']"
      ]
     },
     "execution_count": 42,
     "metadata": {},
     "output_type": "execute_result"
    }
   ],
   "source": [
    "file_names = os.listdir(os.path.join(os.getcwd(), \"BSE_BET_DATA\", \"files\"))\n",
    "file_names[:2]"
   ]
  },
  {
   "cell_type": "code",
   "execution_count": 43,
   "metadata": {},
   "outputs": [
    {
     "data": {
      "text/plain": [
       "['/Users/kitap/dev/clemson/course_work/sem3/cpsc8650/BET_BSE_DATA/files/IXI088-Guys-0758-T1_bse_less_s46_r1.nii.gz',\n",
       " '/Users/kitap/dev/clemson/course_work/sem3/cpsc8650/BET_BSE_DATA/files/IXI482-HH-2178-T1_bet_86.nii.gz']"
      ]
     },
     "execution_count": 43,
     "metadata": {},
     "output_type": "execute_result"
    }
   ],
   "source": [
    "file_paths = [os.path.join(os.getcwd(), \"BSE_BET_DATA\", \"files\", f) for f in file_names]\n",
    "file_paths[:2]"
   ]
  },
  {
   "cell_type": "code",
   "execution_count": 44,
   "metadata": {},
   "outputs": [],
   "source": [
    "# norm_images = []\n",
    "# for path in file_paths:\n",
    "#     try:\n",
    "#         img = process_image(path)\n",
    "#         norm_images.append(img)\n",
    "\n",
    "#     except Exception as e:\n",
    "#         labels_df = labels_df.loc[labels_df[\"Filename\"] != os.path.basename(path).strip(\".gz\")]\n",
    "#         print(path)\n",
    "#         print(repr(e))\n",
    "\n",
    "# norm_images = np.array(norm_images)\n",
    "\n",
    "norm_images = np.array([process_image(p) for p in file_paths])"
   ]
  },
  {
   "cell_type": "code",
   "execution_count": 48,
   "metadata": {},
   "outputs": [
    {
     "data": {
      "text/plain": [
       "(2060, 128, 128, 64)"
      ]
     },
     "execution_count": 48,
     "metadata": {},
     "output_type": "execute_result"
    }
   ],
   "source": [
    "norm_images.shape"
   ]
  },
  {
   "cell_type": "code",
   "execution_count": 47,
   "metadata": {},
   "outputs": [
    {
     "name": "stdout",
     "output_type": "stream",
     "text": [
      "['Yes' 'No'] ['No' 'Yes']\n"
     ]
    }
   ],
   "source": [
    "labels_facial = np.array([])\n",
    "labels_brain = np.array([])\n",
    "for n in file_names:\n",
    "    labels_facial = np.append(labels_facial, labels_df[labels_df[\"Filename\"] == n.strip(\".gz\")][\"Recognizable-Facial-Feature\"])\n",
    "    labels_brain = np.append(labels_brain, labels_df[labels_df[\"Filename\"] == n.strip(\".gz\")][\"Brain-Feature-Loss\"])\n",
    "print(labels_facial[:2], labels_brain[:2])"
   ]
  },
  {
   "cell_type": "code",
   "execution_count": 49,
   "metadata": {},
   "outputs": [
    {
     "name": "stdout",
     "output_type": "stream",
     "text": [
      "[1 0] [0 1]\n"
     ]
    }
   ],
   "source": [
    "labels_facial = np.array([1 if label == 'Yes' else 0 for label in labels_facial])\n",
    "labels_brain = np.array([1 if label == 'Yes' else 0 for label in labels_brain])\n",
    "print(labels_facial[:2], labels_brain[:2])"
   ]
  },
  {
   "cell_type": "code",
   "execution_count": 50,
   "metadata": {},
   "outputs": [],
   "source": [
    "# X_train, X_test, Y_train, Y_test = train_test_split(norm_images, (labels_facial, labels_brain), test_size=0.4, random_state=42)\n",
    "\n",
    "X_train, X_test, Y_f_train, Y_f_test, Y_b_train, Y_b_test = train_test_split(norm_images, labels_facial, labels_brain, test_size=0.2, random_state=42)"
   ]
  },
  {
   "cell_type": "code",
   "execution_count": 51,
   "metadata": {},
   "outputs": [],
   "source": [
    "# For nested cross-validation\n",
    "# Run an outer loop of k-fold cross-validation to split the data into training and testing sets, \n",
    "# and then an inner loop of k-fold cross-validation to tune hyperparameters on the training data \n",
    "# and evaluate model performance on the testing data.\n",
    "x_train, x_val, y_f_train, y_f_val, y_b_train, y_b_val = train_test_split(X_train, Y_f_train, Y_b_train, test_size=0.25, random_state=42)"
   ]
  },
  {
   "cell_type": "code",
   "execution_count": 52,
   "metadata": {},
   "outputs": [],
   "source": [
    "@tf.function\n",
    "def rotate(volume):\n",
    "    \"\"\"Rotate the volume by a few degrees\"\"\"\n",
    "\n",
    "    def scipy_rotate(volume):\n",
    "        # define some rotation angles\n",
    "        angles = [-20, -10, -5, 5, 10, 20]\n",
    "        # pick angles at random\n",
    "        angle = random.choice(angles)\n",
    "        # rotate volume\n",
    "        volume = ndimage.rotate(volume, angle, reshape=False)\n",
    "        volume[volume < 0] = 0\n",
    "        volume[volume > 1] = 1\n",
    "        return volume\n",
    "\n",
    "    aug_volume = tf.numpy_function(scipy_rotate, [volume], tf.float32)\n",
    "    return aug_volume\n",
    "\n",
    "\n",
    "def train_preprocessing(volume, label):\n",
    "    \"\"\"Process training data by rotating and adding a channel.\"\"\"\n",
    "    # Rotate volume\n",
    "    volume = rotate(volume)\n",
    "    volume = tf.expand_dims(volume, axis=3)\n",
    "    return volume, label\n",
    "\n",
    "\n",
    "def validation_preprocessing(volume, label):\n",
    "    \"\"\"Process validation data by only adding a channel.\"\"\"\n",
    "    volume = tf.expand_dims(volume, axis=3)\n",
    "    return volume, label\n"
   ]
  },
  {
   "cell_type": "code",
   "execution_count": 78,
   "metadata": {},
   "outputs": [],
   "source": [
    "train_loader = tf.data.Dataset.from_tensor_slices((x_train, {\"facial\": y_f_train, \"brain\": y_b_train}))\n",
    "validation_loader = tf.data.Dataset.from_tensor_slices((x_val, {\"facial\": y_f_val, \"brain\": y_b_val}))\n",
    "\n",
    "batch_size = 32\n",
    "train_dataset = (\n",
    "    train_loader.shuffle(len(x_train))\n",
    "    .map(train_preprocessing)\n",
    "    .batch(batch_size)\n",
    "    .prefetch(2)\n",
    ")\n",
    "\n",
    "validation_dataset = (\n",
    "    validation_loader.shuffle(len(x_val))\n",
    "    .map(validation_preprocessing)\n",
    "    .batch(batch_size)\n",
    "    .prefetch(2)\n",
    ")"
   ]
  },
  {
   "cell_type": "code",
   "execution_count": 79,
   "metadata": {},
   "outputs": [
    {
     "name": "stdout",
     "output_type": "stream",
     "text": [
      "Model: \"3dcnn\"\n",
      "__________________________________________________________________________________________________\n",
      " Layer (type)                   Output Shape         Param #     Connected to                     \n",
      "==================================================================================================\n",
      " input_5 (InputLayer)           [(None, 128, 128, 6  0           []                               \n",
      "                                4, 1)]                                                            \n",
      "                                                                                                  \n",
      " conv3d_16 (Conv3D)             (None, 126, 126, 62  1792        ['input_5[0][0]']                \n",
      "                                , 64)                                                             \n",
      "                                                                                                  \n",
      " max_pooling3d_16 (MaxPooling3D  (None, 63, 63, 31,   0          ['conv3d_16[0][0]']              \n",
      " )                              64)                                                               \n",
      "                                                                                                  \n",
      " batch_normalization_13 (BatchN  (None, 63, 63, 31,   256        ['max_pooling3d_16[0][0]']       \n",
      " ormalization)                  64)                                                               \n",
      "                                                                                                  \n",
      " conv3d_17 (Conv3D)             (None, 61, 61, 29,   110656      ['batch_normalization_13[0][0]'] \n",
      "                                64)                                                               \n",
      "                                                                                                  \n",
      " max_pooling3d_17 (MaxPooling3D  (None, 30, 30, 14,   0          ['conv3d_17[0][0]']              \n",
      " )                              64)                                                               \n",
      "                                                                                                  \n",
      " batch_normalization_14 (BatchN  (None, 30, 30, 14,   256        ['max_pooling3d_17[0][0]']       \n",
      " ormalization)                  64)                                                               \n",
      "                                                                                                  \n",
      " conv3d_18 (Conv3D)             (None, 28, 28, 12,   221312      ['batch_normalization_14[0][0]'] \n",
      "                                128)                                                              \n",
      "                                                                                                  \n",
      " max_pooling3d_18 (MaxPooling3D  (None, 14, 14, 6, 1  0          ['conv3d_18[0][0]']              \n",
      " )                              28)                                                               \n",
      "                                                                                                  \n",
      " batch_normalization_15 (BatchN  (None, 14, 14, 6, 1  512        ['max_pooling3d_18[0][0]']       \n",
      " ormalization)                  28)                                                               \n",
      "                                                                                                  \n",
      " conv3d_19 (Conv3D)             (None, 12, 12, 4, 2  884992      ['batch_normalization_15[0][0]'] \n",
      "                                56)                                                               \n",
      "                                                                                                  \n",
      " max_pooling3d_19 (MaxPooling3D  (None, 6, 6, 2, 256  0          ['conv3d_19[0][0]']              \n",
      " )                              )                                                                 \n",
      "                                                                                                  \n",
      " batch_normalization_16 (BatchN  (None, 6, 6, 2, 256  1024       ['max_pooling3d_19[0][0]']       \n",
      " ormalization)                  )                                                                 \n",
      "                                                                                                  \n",
      " global_average_pooling3d_4 (Gl  (None, 256)         0           ['batch_normalization_16[0][0]'] \n",
      " obalAveragePooling3D)                                                                            \n",
      "                                                                                                  \n",
      " dense_6 (Dense)                (None, 512)          131584      ['global_average_pooling3d_4[0][0\n",
      "                                                                 ]']                              \n",
      "                                                                                                  \n",
      " dropout_4 (Dropout)            (None, 512)          0           ['dense_6[0][0]']                \n",
      "                                                                                                  \n",
      " facial (Dense)                 (None, 1)            513         ['dropout_4[0][0]']              \n",
      "                                                                                                  \n",
      " brain (Dense)                  (None, 1)            513         ['dropout_4[0][0]']              \n",
      "                                                                                                  \n",
      "==================================================================================================\n",
      "Total params: 1,353,410\n",
      "Trainable params: 1,352,386\n",
      "Non-trainable params: 1,024\n",
      "__________________________________________________________________________________________________\n"
     ]
    }
   ],
   "source": [
    "def define_model(width=128, height=128, depth=64):\n",
    "    \"\"\"Build a 3D convolutional neural network model.\"\"\"\n",
    "\n",
    "    inputs = keras.Input((width, height, depth, 1))\n",
    "\n",
    "    x = Conv3D(filters=64, kernel_size=3, activation=\"relu\")(inputs)\n",
    "    x = MaxPooling3D(pool_size=2)(x)\n",
    "    x = BatchNormalization()(x)\n",
    "\n",
    "    x = Conv3D(filters=64, kernel_size=3, activation=\"relu\")(x)\n",
    "    x = MaxPooling3D(pool_size=2)(x)\n",
    "    x = BatchNormalization()(x)\n",
    "\n",
    "    x = Conv3D(filters=128, kernel_size=3, activation=\"relu\")(x)\n",
    "    x = MaxPooling3D(pool_size=2)(x)\n",
    "    x = BatchNormalization()(x)\n",
    "\n",
    "    x = Conv3D(filters=256, kernel_size=3, activation=\"relu\")(x)\n",
    "    x = MaxPooling3D(pool_size=2)(x)\n",
    "    x = BatchNormalization()(x)\n",
    "\n",
    "    x = GlobalAveragePooling3D()(x)\n",
    "    x = Dense(units=512, activation=\"relu\")(x)\n",
    "    x = Dropout(0.2)(x)\n",
    "\n",
    "    # Define the first output layer\n",
    "    out_f = Dense(units=1, activation='sigmoid', name='facial')(x)\n",
    "\n",
    "    # Define the second output layer\n",
    "    out_b = Dense(units=1, activation='sigmoid', name='brain')(x)\n",
    "\n",
    "    # Define the model.\n",
    "    model = keras.Model(inputs, [out_f, out_b], name=\"3dcnn\")\n",
    "    return model\n",
    "\n",
    "\n",
    "# Build model.\n",
    "model = define_model(width=128, height=128, depth=64)\n",
    "model.summary()"
   ]
  },
  {
   "cell_type": "code",
   "execution_count": 80,
   "metadata": {},
   "outputs": [
    {
     "name": "stdout",
     "output_type": "stream",
     "text": [
      "Epoch 1/6\n"
     ]
    }
   ],
   "source": [
    "# Compile model.\n",
    "# initial_learning_rate = 0.0001\n",
    "# learning_schedule = keras.optimizers.schedules.ExponentialDecay(\n",
    "#     initial_learning_rate, decay_steps=100000, decay_rate=0.96, staircase=True\n",
    "# )\n",
    "model.compile(\n",
    "    optimizer=Adam(learning_rate=0.001),\n",
    "    loss={\"facial\": \"binary_crossentropy\", \"brain\": \"binary_crossentropy\"},\n",
    "    metrics=[Accuracy(), MeanSquaredError(), AUC()],\n",
    ")\n",
    "\n",
    "# Define callbacks.\n",
    "checkpoint_cb = tf.keras.callbacks.ModelCheckpoint(\"project.h5\", save_best_only=True)\n",
    "early_stopping_cb = tf.keras.callbacks.EarlyStopping(monitor=\"loss\", mode=\"min\", patience=15)\n",
    "\n",
    "# Train the model, doing validation at the end of each epoch\n",
    "epochs = 6\n",
    "model.fit(\n",
    "    train_dataset,\n",
    "    validation_data=validation_dataset,\n",
    "    epochs=epochs,\n",
    "    shuffle=True,\n",
    "    verbose=2,\n",
    "    batch_size=batch_size,\n",
    "    callbacks=[checkpoint_cb, early_stopping_cb],\n",
    ")\n",
    "\n",
    "model.save(\"project.h5\", save_format=\"h5\")"
   ]
  },
  {
   "cell_type": "code",
   "execution_count": null,
   "metadata": {},
   "outputs": [
    {
     "data": {
      "text/plain": [
       "{}"
      ]
     },
     "execution_count": 66,
     "metadata": {},
     "output_type": "execute_result"
    }
   ],
   "source": [
    "model.history.history"
   ]
  },
  {
   "cell_type": "code",
   "execution_count": null,
   "metadata": {},
   "outputs": [
    {
     "ename": "KeyError",
     "evalue": "'facial_accuracy'",
     "output_type": "error",
     "traceback": [
      "\u001b[0;31m---------------------------------------------------------------------------\u001b[0m",
      "\u001b[0;31mKeyError\u001b[0m                                  Traceback (most recent call last)",
      "Cell \u001b[0;32mIn[62], line 16\u001b[0m\n\u001b[1;32m     13\u001b[0m fig, axes \u001b[39m=\u001b[39m plt\u001b[39m.\u001b[39msubplots(nrows\u001b[39m=\u001b[39m\u001b[39m2\u001b[39m, ncols\u001b[39m=\u001b[39m\u001b[39m2\u001b[39m, figsize\u001b[39m=\u001b[39m(\u001b[39m10\u001b[39m,\u001b[39m8\u001b[39m))\n\u001b[1;32m     15\u001b[0m \u001b[39m# plot the training and validation accuracy for facial\u001b[39;00m\n\u001b[0;32m---> 16\u001b[0m axes[\u001b[39m0\u001b[39m][\u001b[39m0\u001b[39m]\u001b[39m.\u001b[39mplot(model\u001b[39m.\u001b[39;49mhistory\u001b[39m.\u001b[39;49mhistory[\u001b[39m'\u001b[39;49m\u001b[39mfacial_accuracy\u001b[39;49m\u001b[39m'\u001b[39;49m], label\u001b[39m=\u001b[39m\u001b[39m'\u001b[39m\u001b[39mtrain\u001b[39m\u001b[39m'\u001b[39m)\n\u001b[1;32m     17\u001b[0m axes[\u001b[39m0\u001b[39m][\u001b[39m0\u001b[39m]\u001b[39m.\u001b[39mplot(model\u001b[39m.\u001b[39mhistory\u001b[39m.\u001b[39mhistory[\u001b[39m'\u001b[39m\u001b[39mval_facial_accuracy\u001b[39m\u001b[39m'\u001b[39m], label\u001b[39m=\u001b[39m\u001b[39m'\u001b[39m\u001b[39mval\u001b[39m\u001b[39m'\u001b[39m)\n\u001b[1;32m     18\u001b[0m axes[\u001b[39m0\u001b[39m][\u001b[39m0\u001b[39m]\u001b[39m.\u001b[39mset_title(\u001b[39m'\u001b[39m\u001b[39mFacial Accuracy\u001b[39m\u001b[39m'\u001b[39m)\n",
      "\u001b[0;31mKeyError\u001b[0m: 'facial_accuracy'"
     ]
    },
    {
     "data": {
      "image/png": "[encoded data removed]",
      "text/plain": [
       "<Figure size 1000x800 with 4 Axes>"
      ]
     },
     "metadata": {},
     "output_type": "display_data"
    }
   ],
   "source": [
    "# fig, ax = plt.subplots(1, 2, figsize=(20, 6))\n",
    "# ax = ax.ravel()\n",
    "\n",
    "# for i, metric in enumerate([\"accuracy\", \"loss\"]):\n",
    "#     ax[i].plot(model.history.history[metric])\n",
    "#     ax[i].plot(model.history.history[\"val_\" + metric])\n",
    "#     ax[i].set_title(\"Model {}\".format(metric))\n",
    "#     ax[i].set_xlabel(\"epochs\")\n",
    "#     ax[i].set_ylabel(metric)\n",
    "#     ax[i].legend([\"train\", \"validation\"])\n",
    "\n",
    "# create a figure with two subplots\n",
    "fig, axes = plt.subplots(nrows=2, ncols=2, figsize=(10,8))\n",
    "\n",
    "# plot the training and validation accuracy for facial\n",
    "axes[0][0].plot(model.history.history['facial_accuracy'], label='train')\n",
    "axes[0][0].plot(model.history.history['val_facial_accuracy'], label='val')\n",
    "axes[0][0].set_title('Facial Accuracy')\n",
    "axes[0][0].legend()\n",
    "\n",
    "# plot the training and validation loss for facial\n",
    "axes[0][1].plot(model.history.history['facial_loss'], label='train')\n",
    "axes[0][1].plot(model.history.history['val_facial_loss'], label='val')\n",
    "axes[0][1].set_title('Facial Loss')\n",
    "axes[0][1].legend()\n",
    "\n",
    "# plot the training and validation accuracy for brain\n",
    "axes[1][0].plot(model.history.history['brain_accuracy'], label='train')\n",
    "axes[1][0].plot(model.history.history['val_brain_accuracy'], label='val')\n",
    "axes[1][0].set_title('Brain Accuracy')\n",
    "axes[1][0].legend()\n",
    "\n",
    "# plot the training and validation loss for brain\n",
    "axes[1][1].plot(model.history.history['brain_loss'], label='train')\n",
    "axes[1][1].plot(model.history.history['val_brain_loss'], label='val')\n",
    "axes[1][1].set_title('Brain Loss')\n",
    "axes[1][1].legend()\n",
    "\n",
    "plt.tight_layout()\n",
    "plt.show()"
   ]
  },
  {
   "cell_type": "code",
   "execution_count": null,
   "metadata": {},
   "outputs": [
    {
     "name": "stdout",
     "output_type": "stream",
     "text": [
      "1/1 [==============================] - 0s 288ms/step\n"
     ]
    },
    {
     "ename": "IndexError",
     "evalue": "only integers, slices (`:`), ellipsis (`...`), numpy.newaxis (`None`) and integer or boolean arrays are valid indices",
     "output_type": "error",
     "traceback": [
      "\u001b[0;31m---------------------------------------------------------------------------\u001b[0m",
      "\u001b[0;31mIndexError\u001b[0m                                Traceback (most recent call last)",
      "Cell \u001b[0;32mIn[61], line 7\u001b[0m\n\u001b[1;32m      5\u001b[0m     prediction \u001b[39m=\u001b[39m model\u001b[39m.\u001b[39mpredict(np\u001b[39m.\u001b[39mexpand_dims(X_test[i], axis\u001b[39m=\u001b[39m\u001b[39m0\u001b[39m))[\u001b[39m0\u001b[39m]\n\u001b[1;32m      6\u001b[0m     scores \u001b[39m=\u001b[39m [\u001b[39m1\u001b[39m \u001b[39m-\u001b[39m prediction[\u001b[39m0\u001b[39m], prediction[\u001b[39m0\u001b[39m]]\n\u001b[0;32m----> 7\u001b[0m     predictions_facial\u001b[39m.\u001b[39mappend([prediction[\u001b[39m0\u001b[39;49m][\u001b[39m\"\u001b[39;49m\u001b[39mfacial\u001b[39;49m\u001b[39m\"\u001b[39;49m]])\n\u001b[1;32m      8\u001b[0m     predictions_brain\u001b[39m.\u001b[39mappend([prediction[\u001b[39m0\u001b[39m][\u001b[39m\"\u001b[39m\u001b[39mbrain\u001b[39m\u001b[39m\"\u001b[39m]])\n\u001b[1;32m     10\u001b[0m \u001b[39mprint\u001b[39m(predictions_facial[:\u001b[39m2\u001b[39m], predictions_brain[:\u001b[39m2\u001b[39m])\n",
      "\u001b[0;31mIndexError\u001b[0m: only integers, slices (`:`), ellipsis (`...`), numpy.newaxis (`None`) and integer or boolean arrays are valid indices"
     ]
    }
   ],
   "source": [
    "model.load_weights(\"project.h5\")\n",
    "predictions_facial = []\n",
    "predictions_brain = []\n",
    "for i in range(len(X_test)):\n",
    "    prediction = model.predict(np.expand_dims(X_test[i], axis=0))[0]\n",
    "    scores = [1 - prediction[0], prediction[0]]\n",
    "    predictions_facial.append([prediction[0][\"facial\"]])\n",
    "    predictions_brain.append([prediction[0][\"brain\"]])\n",
    "\n",
    "print(predictions_facial[:2], predictions_brain[:2])"
   ]
  },
  {
   "cell_type": "code",
   "execution_count": null,
   "metadata": {},
   "outputs": [],
   "source": [
    "tests_facial=[]\n",
    "for i in Y_f_test:\n",
    "    tests_facial.append([i])\n",
    "tests_facial[:2]"
   ]
  },
  {
   "cell_type": "code",
   "execution_count": null,
   "metadata": {},
   "outputs": [],
   "source": [
    "tests_brain=[]\n",
    "for i in Y_b_test:\n",
    "    tests_brain.append([i])\n",
    "tests_brain[:2]"
   ]
  },
  {
   "cell_type": "code",
   "execution_count": null,
   "metadata": {},
   "outputs": [
    {
     "data": {
      "text/plain": [
       "99.68847632408142"
      ]
     },
     "execution_count": 111,
     "metadata": {},
     "output_type": "execute_result"
    }
   ],
   "source": [
    "m = BinaryAccuracy()\n",
    "m.update_state(tests_facial, predictions_facial)\n",
    "acc_facial = m.result().numpy() * 100\n",
    "\n",
    "m.reset_state()\n",
    "m.update_state(tests_brain, predictions_brain)\n",
    "acc_brain = m.result().numpy() * 100\n",
    "\n",
    "print(\"Facial Accuracy: \" + acc_facial)\n",
    "print(\"Brain Accuracy: \" + acc_brain)"
   ]
  },
  {
   "cell_type": "code",
   "execution_count": null,
   "metadata": {},
   "outputs": [],
   "source": [
    "f1_facial = f1_score(tests_facial, predictions_facial)\n",
    "f1_brain = f1_score(tests_brain, predictions_brain)\n",
    "print(\"Facial F1 score: \" + f1_facial)\n",
    "print(\"Brain F1 score: \" + f1_brain)"
   ]
  }
 ],
 "metadata": {
  "kernelspec": {
   "display_name": "Python 3 (ipykernel)",
   "language": "python",
   "name": "python3"
  },
  "language_info": {
   "codemirror_mode": {
    "name": "ipython",
    "version": 3
   },
   "file_extension": ".py",
   "mimetype": "text/x-python",
   "name": "python",
   "nbconvert_exporter": "python",
   "pygments_lexer": "ipython3",
   "version": "3.8.16"
  }
 },
 "nbformat": 4,
 "nbformat_minor": 4
}
